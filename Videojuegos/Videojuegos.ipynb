{
 "cells": [
  {
   "cell_type": "markdown",
   "metadata": {},
   "source": [
    "# Ejercicio: Videojuegos\n",
    "**Autores**: Antonia M. Reina y José C. Riquelme.      **Revisores**: Mariano González, Fermín Cruz.     **Última modificación:** 25/11/2022"
   ]
  },
  {
   "cell_type": "markdown",
   "metadata": {},
   "source": [
    "*Este ejercicio está basado en el ejercicio propuesto en el primer examen práctico de la asignatura en el curso 2018/19, realizado el 1 de febrero de 2019. Los apartados que aparecían en el examen son los que figuran con una puntuación.*"
   ]
  },
  {
   "cell_type": "markdown",
   "metadata": {},
   "source": [
    "Disponemos de un conjunto de datos con información sobre ventas de videojuegos. Los datos se encuentran almacenados en un fichero en formato CSV codificado en UTF-8. Cada registro del fichero ocupa una línea y contiene los datos correspondientes a un videojuego: posición en el ranking de ventas, nombre del videojuego, plataforma, año de salida al mercado, género, compañía distribuidora, volumen de ventas en Norteamérica, Europa, Japón y otras zonas, y volumen global de ventas (el volumen de ventas viene dado en millones de copias).\n",
    "\n",
    "Estas son las primeras líneas del fichero (https://bit.ly/2NQLwm8):\n",
    "\n",
    "    Rank,Name,Platform,Year,Genre,Publisher,NA_Sales,EU_Sales,JP_Sales,Other_Sales,Global_Sales\n",
    "    1,Wii Sports,Wii,2006,Sports,Nintendo,41.49,29.02,3.77,8.46,82.74\n",
    "    2,Super Mario Bros.,NES,1985,Platform,Nintendo,29.08,3.58,6.81,0.77,40.24\n",
    "    3,Mario Kart Wii,Wii,2008,Racing,Nintendo,15.85,12.88,3.79,3.31,35.82\n",
    "    4,Wii Sports Resort,Wii,2009,Sports,Nintendo,15.75,11.01,3.28,2.96,33\n",
    "    \n",
    "Escribe el código de las funciones que se indican y ejecuta el test correspondiente para probar su funcionamiento. Las soluciones deben ser genéricas y adaptarse a los datos que se reciben como parámetros, sin presuponer unos valores concretos para estos."
   ]
  },
  {
   "cell_type": "code",
   "execution_count": 1,
   "metadata": {
    "scrolled": true
   },
   "outputs": [],
   "source": [
    "# Antes de comenzar, hay que importar los módulos necesarios\n",
    "import csv\n",
    "from matplotlib import pylab as plt\n",
    "from collections import namedtuple, defaultdict, Counter"
   ]
  },
  {
   "cell_type": "code",
   "execution_count": 2,
   "metadata": {},
   "outputs": [],
   "source": [
    "# También definimos la tupla con nombre\n",
    "Juego = namedtuple('Juego',\n",
    "            'rank, name, platform, year, genre, publisher, NA_sales, EU_sales, JP_sales, other_sales, global_sales')"
   ]
  },
  {
   "cell_type": "markdown",
   "metadata": {},
   "source": [
    "## Ejercicio 1\n",
    "\n",
    "Escribe la función **lee_juegos**(nom_fichero), que lee el fichero de entrada y lo almacena en una lista de tuplas. (1 Punto)"
   ]
  },
  {
   "cell_type": "code",
   "execution_count": 42,
   "metadata": {},
   "outputs": [],
   "source": [
    "def lee_juegos(fichero):\n",
    "   ''' Carga el fichero, devolviéndolo como lista de tuplas.\n",
    "   \n",
    "   ENTRADA: \n",
    "      - fichero: nombre del fichero con los datos de videojuegos -> str\n",
    "   SALIDA: \n",
    "      - lista de tuplas -> [Juego(int, str, str, int, str, str, float, float, float, float, float)]    \n",
    "   '''\n",
    "   with open(fichero, encoding=\"utf-8\") as f:\n",
    "      lector = csv.reader(f)\n",
    "      next(lector)\n",
    "      res = []\n",
    "      for rank, name, platform, year, genre, publisher, NA_sales, EU_sales, JP_sales, other_sales, global_sales in lector:\n",
    "         rank = int(rank)\n",
    "         year = int(year)\n",
    "         NA_sales = float(NA_sales)\n",
    "         EU_sales = float(EU_sales)\n",
    "         JP_sales = float(JP_sales)\n",
    "         other_sales = float(other_sales)\n",
    "         global_sales = float(global_sales)\n",
    "         res.append(Juego(rank, name, platform, year, genre, publisher, NA_sales, EU_sales, JP_sales, other_sales, global_sales))\n",
    "      return res"
   ]
  },
  {
   "cell_type": "code",
   "execution_count": 43,
   "metadata": {},
   "outputs": [
    {
     "name": "stdout",
     "output_type": "stream",
     "text": [
      "Número total de videojuegos: 16291\n",
      "Mostrando los tres primeros registros leídos:\n",
      "\t Juego(rank=1, name='Wii Sports', platform='Wii', year=2006, genre='Sports', publisher='Nintendo', NA_sales=41.49, EU_sales=29.02, JP_sales=3.77, other_sales=8.46, global_sales=82.74)\n",
      "\t Juego(rank=2, name='Super Mario Bros.', platform='NES', year=1985, genre='Platform', publisher='Nintendo', NA_sales=29.08, EU_sales=3.58, JP_sales=6.81, other_sales=0.77, global_sales=40.24)\n",
      "\t Juego(rank=3, name='Mario Kart Wii', platform='Wii', year=2008, genre='Racing', publisher='Nintendo', NA_sales=15.85, EU_sales=12.88, JP_sales=3.79, other_sales=3.31, global_sales=35.82)\n"
     ]
    }
   ],
   "source": [
    "# Test de la función lee_juegos\n",
    "# La salida esperada es:\n",
    "'''\n",
    "Número total de videojuegos: 16291\n",
    "Mostrando los tres primeros registros leídos:\n",
    "\t Juego(rank=1, name='Wii Sports', platform='Wii', year=2006, genre='Sports', publisher='Nintendo', NA_sales=41.49, EU_sales=29.02, JP_sales=3.77, other_sales=8.46, global_sales=82.74)\n",
    "\t Juego(rank=2, name='Super Mario Bros.', platform='NES', year=1985, genre='Platform', publisher='Nintendo', NA_sales=29.08, EU_sales=3.58, JP_sales=6.81, other_sales=0.77, global_sales=40.24)\n",
    "\t Juego(rank=3, name='Mario Kart Wii', platform='Wii', year=2008, genre='Racing', publisher='Nintendo', NA_sales=15.85, EU_sales=12.88, JP_sales=3.79, other_sales=3.31, global_sales=35.82)\n",
    "'''\n",
    "\n",
    "juegos = lee_juegos('./data/videojuegos.csv')\n",
    "print('Número total de videojuegos:', len(juegos)) \n",
    "print('Mostrando los tres primeros registros leídos:')\n",
    "for j in juegos[:3]:\n",
    "    print(\"\\t\", j)\n",
    "    "
   ]
  },
  {
   "cell_type": "markdown",
   "metadata": {},
   "source": [
    "## Ejercicio 2\n",
    "\n",
    "Escribe la función **num_juegos_mas_ventasJP**(lista_juegos), que calcula cuántos videojuegos han tenido más ventas en Japón que en Norteamérica."
   ]
  },
  {
   "cell_type": "code",
   "execution_count": 44,
   "metadata": {},
   "outputs": [],
   "source": [
    "def num_juegos_mas_ventasJP(lista_juegos):\n",
    "   ''' Calcula cuántos videojuegos han tenido más ventas en Japón que en Norteamérica\n",
    "   \n",
    "   ENTRADA: \n",
    "      - lista_juegos: lista de tuplas -> [Juego(...)]    \n",
    "   SALIDA: \n",
    "      - número de videojuegos con más ventas en Japón que en Norteamérica -> int   \n",
    "   '''\n",
    "   res = []\n",
    "   for l in lista_juegos:\n",
    "      if l.JP_sales > l.NA_sales:\n",
    "         res.append(l.name)\n",
    "   return len(res)"
   ]
  },
  {
   "cell_type": "code",
   "execution_count": 45,
   "metadata": {},
   "outputs": [
    {
     "name": "stdout",
     "output_type": "stream",
     "text": [
      "Número de videojuegos con más ventas en Japón que en Norteamérica: 4078\n"
     ]
    }
   ],
   "source": [
    "# Test de la función existe_mas_ventasJP\n",
    "# La salida esperada es:\n",
    "# Número de videojuegos con más ventas en Japón que en Norteamérica: 4078\n",
    "\n",
    "print('Número de videojuegos con más ventas en Japón que en Norteamérica:',\n",
    "     num_juegos_mas_ventasJP(juegos))"
   ]
  },
  {
   "cell_type": "markdown",
   "metadata": {},
   "source": [
    "## Ejercicio 3\n",
    "Escribe la función **juegos_distribuidora_anyo**(lista_juegos, publisher, anyo), que obtiene una lista con los nombres de los juegos de una distribuidora dada en un año dado. (1 Punto)\n"
   ]
  },
  {
   "cell_type": "code",
   "execution_count": 7,
   "metadata": {},
   "outputs": [],
   "source": [
    "def juegos_distribuidora_anyo(lista_juegos, publisher, año):\n",
    "    ''' Obtiene una lista con los nombres de los juegos de una distribuidora dada en un año dado.\n",
    "    \n",
    "    ENTRADA: \n",
    "       - lista_juegos: lista de tuplas -> [Juego(...)]    \n",
    "       - publisher: distribuidora a filtrar -> str\n",
    "       - año: año a filtrar -> int\n",
    "    SALIDA: \n",
    "       - lista con los nombres de los videojuegos que cumplen el filtrado especificado -> [str]\n",
    "    '''\n",
    "    res = []\n",
    "    for l in lista_juegos:\n",
    "      if l.publisher == publisher and año == l.year:\n",
    "         res.append(l.name)\n",
    "    return res"
   ]
  },
  {
   "cell_type": "code",
   "execution_count": 8,
   "metadata": {},
   "outputs": [
    {
     "name": "stdout",
     "output_type": "stream",
     "text": [
      "Mostrando los 14 juegos distribuidos por Microsoft Game Studios en el año 2005:\n",
      "\t Forza Motorsport\n",
      "\t Perfect Dark Zero\n",
      "\t Conker: Live And Reloaded\n",
      "\t Jade Empire\n",
      "\t Halo 2 Multiplayer Map Pack\n",
      "\t PGR3 - Project Gotham Racing 3\n",
      "\t Age of Empires III\n",
      "\t Kameo: Elements of Power\n",
      "\t Halo Triple Pack\n",
      "\t Ninja Gaiden Black\n",
      "\t Fable: The Lost Chapters\n",
      "\t Tecmo Classic Arcade\n",
      "\t Tork: Prehistoric Punk\n",
      "\t Dungeon Siege II\n"
     ]
    }
   ],
   "source": [
    "# Test de la función juegos_distribuidora_anyo\n",
    "# La salida esperada es:\n",
    "'''\n",
    "Mostrando los 14 juegos distribuidos por Microsoft Game Studios en el año 2005:\n",
    "\t Forza Motorsport\n",
    "\t Perfect Dark Zero\n",
    "\t Conker: Live And Reloaded\n",
    "\t Jade Empire\n",
    "\t Halo 2 Multiplayer Map Pack\n",
    "\t PGR3 - Project Gotham Racing 3\n",
    "\t Age of Empires III\n",
    "\t Kameo: Elements of Power\n",
    "\t Halo Triple Pack\n",
    "\t Ninja Gaiden Black\n",
    "\t Fable: The Lost Chapters\n",
    "\t Tecmo Classic Arcade\n",
    "\t Tork: Prehistoric Punk\n",
    "\t Dungeon Siege II\n",
    "'''\n",
    "distr = 'Microsoft Game Studios'\n",
    "anyo = 2005\n",
    "juegos_distr_anyo = juegos_distribuidora_anyo(juegos, distr, anyo)\n",
    "print(f'Mostrando los {len(juegos_distr_anyo)} juegos distribuidos por {distr} en el año {anyo}:')\n",
    "for j in juegos_distr_anyo:\n",
    "    print(\"\\t\", j)"
   ]
  },
  {
   "cell_type": "markdown",
   "metadata": {},
   "source": [
    "## Ejercicio 4\n",
    "Escribe la función **num_distribuidoras**(lista_juegos), que obtiene el número de compañías distribuidoras distintas."
   ]
  },
  {
   "cell_type": "code",
   "execution_count": 9,
   "metadata": {},
   "outputs": [],
   "source": [
    "def num_distribuidoras(lista_juegos):  \n",
    "    ''' Obtiene el número de compañías distribuidoras distintas.\n",
    "    \n",
    "    ENTRADA: \n",
    "       - lista_juegos: lista de tuplas -> [Juego(...)]    \n",
    "    SALIDA: \n",
    "       - número de compañías distribuidoras distintas -> int\n",
    "    '''\n",
    "    res= set()\n",
    "    for l in lista_juegos:\n",
    "      res.add(l.publisher)\n",
    "    return len(res)"
   ]
  },
  {
   "cell_type": "code",
   "execution_count": 10,
   "metadata": {},
   "outputs": [
    {
     "name": "stdout",
     "output_type": "stream",
     "text": [
      "Número de distribuidoras distintas: 576\n"
     ]
    }
   ],
   "source": [
    "# Test de la función num_distribuidoras\n",
    "# La salida esperada es:\n",
    "# Número de distribuidoras distintas: 576\n",
    "\n",
    "print('Número de distribuidoras distintas:', num_distribuidoras(juegos))"
   ]
  },
  {
   "cell_type": "markdown",
   "metadata": {},
   "source": [
    "## Ejercicio 5\n",
    "Escribe la función **juego_mas_antiguo**(lista_juegos), que obtiene el videojuego o videojuegos más antiguos. Si hay empate en el año de publicación se devuelven todos."
   ]
  },
  {
   "cell_type": "code",
   "execution_count": 5,
   "metadata": {},
   "outputs": [],
   "source": [
    "def juego_mas_antiguo(lista_juegos):  \n",
    "   ''' Obtiene el videojuego o videojuegos más antiguos. Si hay empate en el año de publicación se devuelven todos.\n",
    "   \n",
    "   ENTRADA: \n",
    "      - lista_juegos: lista de tuplas -> [Juego(...)]    \n",
    "   SALIDA: \n",
    "      - videojuegos más antiguos -> [Juego(...)]\n",
    "   '''\n",
    "   anyo_menor = min(t_juego.year for t_juego in lista_juegos)\n",
    "   return [t_juego for t_juego in lista_juegos if t_juego.year == anyo_menor]"
   ]
  },
  {
   "cell_type": "code",
   "execution_count": 6,
   "metadata": {},
   "outputs": [
    {
     "name": "stdout",
     "output_type": "stream",
     "text": [
      "Los juegos más antiguos son:\n",
      "\t Juego(rank=259, name='Asteroids', platform='2600', year=1980, genre='Shooter', publisher='Atari', NA_sales=4.0, EU_sales=0.26, JP_sales=0.0, other_sales=0.05, global_sales=4.31)\n",
      "\t Juego(rank=545, name='Missile Command', platform='2600', year=1980, genre='Shooter', publisher='Atari', NA_sales=2.56, EU_sales=0.17, JP_sales=0.0, other_sales=0.03, global_sales=2.76)\n",
      "\t Juego(rank=1768, name='Kaboom!', platform='2600', year=1980, genre='Misc', publisher='Activision', NA_sales=1.07, EU_sales=0.07, JP_sales=0.0, other_sales=0.01, global_sales=1.15)\n",
      "\t Juego(rank=1971, name='Defender', platform='2600', year=1980, genre='Misc', publisher='Atari', NA_sales=0.99, EU_sales=0.05, JP_sales=0.0, other_sales=0.01, global_sales=1.05)\n",
      "\t Juego(rank=2671, name='Boxing', platform='2600', year=1980, genre='Fighting', publisher='Activision', NA_sales=0.72, EU_sales=0.04, JP_sales=0.0, other_sales=0.01, global_sales=0.77)\n",
      "\t Juego(rank=4027, name='Ice Hockey', platform='2600', year=1980, genre='Sports', publisher='Activision', NA_sales=0.46, EU_sales=0.03, JP_sales=0.0, other_sales=0.01, global_sales=0.49)\n",
      "\t Juego(rank=5368, name='Freeway', platform='2600', year=1980, genre='Action', publisher='Activision', NA_sales=0.32, EU_sales=0.02, JP_sales=0.0, other_sales=0.0, global_sales=0.34)\n",
      "\t Juego(rank=6319, name='Bridge', platform='2600', year=1980, genre='Misc', publisher='Activision', NA_sales=0.25, EU_sales=0.02, JP_sales=0.0, other_sales=0.0, global_sales=0.27)\n",
      "\t Juego(rank=6898, name='Checkers', platform='2600', year=1980, genre='Misc', publisher='Atari', NA_sales=0.22, EU_sales=0.01, JP_sales=0.0, other_sales=0.0, global_sales=0.24)\n"
     ]
    }
   ],
   "source": [
    "# Test de la función juego_mas_antiguo\n",
    "# La salida esperada es:\n",
    "'''\n",
    "Los juegos más antiguos son:\n",
    "\t Juego(rank=259, name='Asteroids', platform='2600', year=1980, genre='Shooter', publisher='Atari', NA_sales=4.0, EU_sales=0.26, JP_sales=0.0, other_sales=0.05, global_sales=4.31)\n",
    "\t Juego(rank=545, name='Missile Command', platform='2600', year=1980, genre='Shooter', publisher='Atari', NA_sales=2.56, EU_sales=0.17, JP_sales=0.0, other_sales=0.03, global_sales=2.76)\n",
    "\t Juego(rank=1768, name='Kaboom!', platform='2600', year=1980, genre='Misc', publisher='Activision', NA_sales=1.07, EU_sales=0.07, JP_sales=0.0, other_sales=0.01, global_sales=1.15)\n",
    "\t Juego(rank=1971, name='Defender', platform='2600', year=1980, genre='Misc', publisher='Atari', NA_sales=0.99, EU_sales=0.05, JP_sales=0.0, other_sales=0.01, global_sales=1.05)\n",
    "\t Juego(rank=2671, name='Boxing', platform='2600', year=1980, genre='Fighting', publisher='Activision', NA_sales=0.72, EU_sales=0.04, JP_sales=0.0, other_sales=0.01, global_sales=0.77)\n",
    "\t Juego(rank=4027, name='Ice Hockey', platform='2600', year=1980, genre='Sports', publisher='Activision', NA_sales=0.46, EU_sales=0.03, JP_sales=0.0, other_sales=0.01, global_sales=0.49)\n",
    "\t Juego(rank=5368, name='Freeway', platform='2600', year=1980, genre='Action', publisher='Activision', NA_sales=0.32, EU_sales=0.02, JP_sales=0.0, other_sales=0.0, global_sales=0.34)\n",
    "\t Juego(rank=6319, name='Bridge', platform='2600', year=1980, genre='Misc', publisher='Activision', NA_sales=0.25, EU_sales=0.02, JP_sales=0.0, other_sales=0.0, global_sales=0.27)\n",
    "\t Juego(rank=6898, name='Checkers', platform='2600', year=1980, genre='Misc', publisher='Atari', NA_sales=0.22, EU_sales=0.01, JP_sales=0.0, other_sales=0.0, global_sales=0.24)\n",
    "'''\n",
    "\n",
    "print('Los juegos más antiguos son:')\n",
    "for j in juego_mas_antiguo(juegos):\n",
    "    print(\"\\t\", j)"
   ]
  },
  {
   "cell_type": "markdown",
   "metadata": {},
   "source": [
    "## Ejercicio 6\n",
    "Escribe la función **genero_mas_presente**(lista_juegos), que obtiene el género de juego que más veces se repite."
   ]
  },
  {
   "cell_type": "code",
   "execution_count": null,
   "metadata": {},
   "outputs": [],
   "source": [
    "def genero_mas_presente(lista_juegos):\n",
    "   ''' Obtiene el género de juego que más veces se repite, y el número de veces\n",
    "   que se repite.\n",
    "   \n",
    "   ENTRADA: \n",
    "      - lista_juegos: lista de tuplas -> [Juego(...)]    \n",
    "   SALIDA: \n",
    "      - género más presente -> str\n",
    "      - número de juegos de ese género -> int\n",
    "   '''    \n",
    "   pass"
   ]
  },
  {
   "cell_type": "code",
   "execution_count": null,
   "metadata": {},
   "outputs": [],
   "source": [
    "# Test de la función genero_mas_presente\n",
    "# La salida esperada es:\n",
    "# El género que se repite más es \"Action\" con 3251 juegos\n",
    "\n",
    "genero, conteo = genero_mas_presente(juegos)\n",
    "print(f'El género que se repite más es \"{genero}\" con {conteo} juegos')"
   ]
  },
  {
   "cell_type": "markdown",
   "metadata": {},
   "source": [
    "Escibe la función **generos_mas_presentes(lista_juegos, n)**, que obtiene los n géneros de juego que más se repiten."
   ]
  },
  {
   "cell_type": "code",
   "execution_count": null,
   "metadata": {},
   "outputs": [],
   "source": [
    "def generos_mas_presentes(lista_juegos, n):\n",
    "   ''' Obtiene los n géneros de juego que más veces se repiten, y el número de veces\n",
    "   que se repiten.\n",
    "   \n",
    "   ENTRADA: \n",
    "      - lista_juegos: lista de tuplas -> [Juego(...)]    \n",
    "      - n: número de géneros a devolver -> int\n",
    "   SALIDA: \n",
    "      - géneros y veces que se repiten -> [(str, int)]\n",
    "   '''    \n",
    "   pass\n"
   ]
  },
  {
   "cell_type": "code",
   "execution_count": null,
   "metadata": {},
   "outputs": [],
   "source": [
    "# Test de la función generos_mas_presentes\n",
    "# La salida esperada es:\n",
    "'''\n",
    "Los 4 géneros que se repiten más son:\n",
    "\t El género Action aparece en 3251 juegos.\n",
    "\t El género Sports aparece en 2304 juegos.\n",
    "\t El género Misc aparece en 1686 juegos.\n",
    "\t El género Role-Playing aparece en 1470 juegos.\n",
    "'''\n",
    "\n",
    "print('Los 4 géneros que se repiten más son:')\n",
    "for genero, conteo in generos_mas_presentes(juegos, 4):\n",
    "    print(\"\\t\", f\"El género {genero} aparece en {conteo} juegos.\")"
   ]
  },
  {
   "cell_type": "markdown",
   "metadata": {},
   "source": [
    "## Ejercicio 7\n",
    "Escribe la función **genero_mas_ventas**(lista_juegos), que obtiene el género con el global de ventas mayor, y el número de ventas acumuladas."
   ]
  },
  {
   "cell_type": "code",
   "execution_count": null,
   "metadata": {},
   "outputs": [],
   "source": [
    "def genero_mas_ventas(lista_juegos):\n",
    "   ''' Obtiene el género con el global de ventas mayor.\n",
    "   \n",
    "   ENTRADA: \n",
    "      - lista_juegos: lista de tuplas -> [Juego(...)]    \n",
    "   SALIDA: \n",
    "      - género con más ventas globales -> str\n",
    "   '''    \n",
    "   pass"
   ]
  },
  {
   "cell_type": "code",
   "execution_count": null,
   "metadata": {},
   "outputs": [],
   "source": [
    "# Test de la función genero_mas_ventas\n",
    "# La salida esperada es:\n",
    "# El género con más ventas es \"Action\" con 1722.839999999971 millones de copias\n",
    "\n",
    "genero, ventas = genero_mas_ventas(juegos)\n",
    "print('El género con más ventas es \"{0}\" con {1} millones de copias'.format(genero, ventas))"
   ]
  },
  {
   "cell_type": "markdown",
   "metadata": {},
   "source": [
    "Escribe la función **generos_con_mas_ventas(lista_juegos, n)**, que obtiene los n géneros con el global de ventas mayor, y sus números de ventas acumuladas."
   ]
  },
  {
   "cell_type": "code",
   "execution_count": null,
   "metadata": {},
   "outputs": [],
   "source": [
    "def generos_mas_ventas(lista_juegos, n):\n",
    "   ''' Obtiene los n géneros con el global de ventas mayor, y sus números de ventas acumuladas.\n",
    "   \n",
    "   ENTRADA: \n",
    "      - lista_juegos: lista de tuplas -> [Juego(...)]    \n",
    "      - n: número de géneros a devolver -> int\n",
    "   SALIDA: \n",
    "      - géneros con más ventas globales y sus ventas globales -> [(str, int)]\n",
    "   '''    \n",
    "   pass"
   ]
  },
  {
   "cell_type": "code",
   "execution_count": null,
   "metadata": {},
   "outputs": [],
   "source": [
    "# Test de la función generos_mas_ventas\n",
    "# La salida esperada es:\n",
    "'''\n",
    "Los 4 géneros con más ventas globales son:\n",
    "\t El género Action, con 1722.839999999971 millones de copias.\n",
    "\t El género Sports, con 1309.239999999988 millones de copias.\n",
    "\t El género Shooter, con 1026.1999999999957 millones de copias.\n",
    "\t El género Role-Playing, con 923.8299999999941 millones de copias.\n",
    "'''\n",
    "\n",
    "print('Los 4 géneros con más ventas globales son:')\n",
    "for genero, total in generos_mas_ventas(juegos, 4):\n",
    "    print(\"\\t\", f\"El género {genero}, con {total} millones de copias.\")"
   ]
  },
  {
   "cell_type": "markdown",
   "metadata": {},
   "source": [
    "## Ejercicio 8\n",
    "Escribe la función **num_juegos_palabra**(lista_juegos, palabra), que devuelve el número de juegos que contienen una determinada palabra en el título."
   ]
  },
  {
   "cell_type": "code",
   "execution_count": 21,
   "metadata": {},
   "outputs": [],
   "source": [
    "def num_juegos_palabra(lista_juegos, palabra):\n",
    "   ''' Devuelve el número de juegos que contienen una determinada palabra en el título.\n",
    "   \n",
    "   ENTRADA: \n",
    "      - lista_juegos: lista de tuplas -> [Juego(...)]  \n",
    "      - palabra: palabra a buscar en el título -> str  \n",
    "   SALIDA: \n",
    "      - géneros con más ventas globales y sus ventas globales -> [str, int]\n",
    "   '''  \n",
    "   cont = 0\n",
    "   for l in lista_juegos:\n",
    "      if palabra in extrae_palabras(l.name):\n",
    "         cont = cont + 1\n",
    "   return cont"
   ]
  },
  {
   "cell_type": "code",
   "execution_count": 20,
   "metadata": {},
   "outputs": [],
   "source": [
    "def extrae_palabras(titulo):\n",
    "    return [palabra.strip(\":,.;¿?!¡()][\") for palabra in titulo.split()]"
   ]
  },
  {
   "cell_type": "code",
   "execution_count": 22,
   "metadata": {},
   "outputs": [
    {
     "name": "stdout",
     "output_type": "stream",
     "text": [
      "Hay 47 juegos que contienen la palabra Pokemon\n"
     ]
    }
   ],
   "source": [
    "# Test de la función num_juegos_palabra\n",
    "# La salida esperada es:\n",
    "# Hay 47 juegos que contienen la palabra Pokemon\n",
    "\n",
    "pal = 'Pokemon'\n",
    "print(f'Hay {num_juegos_palabra(juegos,pal)} juegos que contienen la palabra {pal}')"
   ]
  },
  {
   "cell_type": "markdown",
   "metadata": {},
   "source": [
    "## Ejercicio 9\n",
    "Escribe la función **mayor_dif_NA_EU**(lista_juegos), que obtiene el nombre del videojuego con una mayor diferencia de ventas entre Europa y Norteamérica (a favor de Europa)."
   ]
  },
  {
   "cell_type": "code",
   "execution_count": null,
   "metadata": {},
   "outputs": [],
   "source": [
    "def mayor_dif_NA_EU(lista_juegos):\n",
    "   ''' Obtiene el nombre del videojuego con una mayor diferencia de ventas entre Europa\n",
    "   y Norteamérica (a favor de Europa).\n",
    "   \n",
    "   ENTRADA: \n",
    "      - lista_juegos: lista de tuplas -> [Juego(...)]    \n",
    "   SALIDA: \n",
    "      - nombre del videojuego -> str\n",
    "   '''  \n",
    "   pass"
   ]
  },
  {
   "cell_type": "code",
   "execution_count": null,
   "metadata": {},
   "outputs": [],
   "source": [
    "# Test de la función mayor_dif_NA_EU\n",
    "# La salida esperada es:\n",
    "# El juego con mayor diferencia de ventas entre Europa y Norteamérica es: World of Warcraft\n",
    "\n",
    "print('El juego con mayor diferencia de ventas entre Europa y Norteamérica es:', mayor_dif_NA_EU(juegos))"
   ]
  },
  {
   "cell_type": "markdown",
   "metadata": {},
   "source": [
    "## Ejercicio 10\n",
    "Escribe la función **ventas_por_año**(lista_juegos), que devuelve una lista de tuplas formadas por un año y el global de ventas de ese año para los videojuegos que salieron ese año. Ordenada de mayor a menor volumen de venta."
   ]
  },
  {
   "cell_type": "code",
   "execution_count": 48,
   "metadata": {},
   "outputs": [],
   "source": [
    "def ventas_por_año(lista_juegos):\n",
    "    ''' Devuelve una lista de tuplas formadas por un año y el global de ventas\n",
    "    de ese año para los videojuegos que salieron ese año, ordenada de mayor a\n",
    "    menor volumen de venta.\n",
    "    \n",
    "    ENTRADA: \n",
    "        - lista_juegos: lista de tuplas -> [Juego(...)]    \n",
    "    SALIDA: \n",
    "        - lista de tuplas (año, ventas_globales) -> [(int, float)]\n",
    "    '''  \n",
    "    d = acumular_ventas_totales_por_anyo(lista_juegos)\n",
    "    return sorted(d.items(), key=lambda m:m[1], reverse=True)"
   ]
  },
  {
   "cell_type": "code",
   "execution_count": 47,
   "metadata": {},
   "outputs": [],
   "source": [
    "def acumular_ventas_totales_por_anyo(lista_juegos):\n",
    "    res = defaultdict(float)\n",
    "    for l in lista_juegos:\n",
    "        clave = l.year\n",
    "        res[clave] += l.global_sales\n",
    "    return res"
   ]
  },
  {
   "cell_type": "code",
   "execution_count": 49,
   "metadata": {},
   "outputs": [
    {
     "name": "stdout",
     "output_type": "stream",
     "text": [
      "Ventas por año: [(2008, 678.8999999999952), (2009, 667.2999999999947), (2007, 609.9199999999935), (2010, 600.2899999999948), (2006, 521.0399999999917), (2011, 515.7999999999972), (2005, 458.50999999999766), (2004, 414.0099999999987), (2002, 395.5199999999983), (2013, 368.10999999999865), (2012, 363.4899999999984), (2003, 357.8499999999989), (2014, 337.0299999999985), (2001, 331.4699999999991), (2015, 264.43999999999795), (1998, 256.46999999999963), (1999, 251.27000000000018), (2000, 201.5600000000002), (1997, 200.98000000000013), (1996, 199.14999999999995), (1995, 88.10999999999991), (1994, 79.17000000000003), (1992, 76.15999999999998), (1989, 73.45), (2016, 70.90000000000013), (1985, 53.940000000000005), (1984, 50.360000000000014), (1990, 49.38999999999999), (1988, 47.22), (1993, 45.98), (1986, 37.07), (1981, 35.77000000000001), (1991, 32.230000000000004), (1982, 28.859999999999996), (1987, 21.739999999999995), (1983, 16.790000000000003), (1980, 11.379999999999999), (2020, 0.29), (2017, 0.05)]\n"
     ]
    }
   ],
   "source": [
    "# Test de la función ventas_por_año\n",
    "# La salida esperada para es:\n",
    "# Ventas por año: \n",
    "# [(2008, 678.8999999999952), (2009, 667.2999999999947), (2007, 609.9199999999935), \n",
    "# (2010, 600.2899999999948), (2006, 521.0399999999917), (2011, 515.7999999999972),\n",
    "# (2005, 458.50999999999766), (2004, 414.0099999999987), (2002, 395.5199999999983), \n",
    "# (2013, 368.10999999999865), (2012, 363.4899999999984), (2003, 357.8499999999989), \n",
    "# (2014, 337.0299999999985), (2001, 331.4699999999991), (2015, 264.43999999999795), \n",
    "# (1998, 256.46999999999963), (1999, 251.27000000000018), (2000, 201.5600000000002), \n",
    "# (1997, 200.98000000000013), (1996, 199.14999999999995), (1995, 88.10999999999991), \n",
    "# (1994, 79.17000000000003), (1992, 76.15999999999998), (1989, 73.45), \n",
    "# (2016, 70.90000000000013), (1985, 53.940000000000005), (1984, 50.360000000000014),\n",
    "# (1990, 49.38999999999999), (1988, 47.22), (1993, 45.98), (1986, 37.07), \n",
    "# (1981, 35.77000000000001), (1991, 32.230000000000004), (1982, 28.859999999999996),\n",
    "# (1987, 21.739999999999995), (1983, 16.790000000000003), (1980, 11.379999999999999),\n",
    "# (2020, 0.29), (2017, 0.05)]\n",
    "\n",
    "print('Ventas por año:', ventas_por_año(juegos))"
   ]
  },
  {
   "cell_type": "markdown",
   "metadata": {},
   "source": [
    "## Ejercicio 11\n",
    "Escribe la función **dicc_porcentaje_ventasJP_por_año**(lista_juegos), que devuelve un diccionario cuyas claves son los años de publicación de los videojuegos y cuyos valores son los porcentajes de las ventas de los videojuegos en Japón respecto a las ventas globales en ese año."
   ]
  },
  {
   "cell_type": "code",
   "execution_count": 50,
   "metadata": {},
   "outputs": [],
   "source": [
    "def dicc_porcentaje_ventasJP_por_año(lista_juegos): \n",
    "    ''' \n",
    "    Devuelve un diccionario cuyas claves son los años de publicación de\n",
    "    los videojuegos y cuyos valores son los porcentajes de las ventas de los\n",
    "    videojuegos en Japón respecto a las ventas globales en ese año.\n",
    "    \n",
    "    ENTRADA: \n",
    "        - lista_juegos: lista de tuplas -> [Juego(...)]    \n",
    "    SALIDA: \n",
    "        - diccionario de porcentajes por año -> [(int, float)]\n",
    "    '''      \n",
    "    res = dict()\n",
    "    for l in lista_juegos:\n",
    "        clave = l.year\n",
    "        if clave not in res:\n",
    "            res[clave] = l.JP_sales\n",
    "        else:\n",
    "            res[clave] += l.JP_sales\n",
    "    return res"
   ]
  },
  {
   "cell_type": "code",
   "execution_count": 51,
   "metadata": {},
   "outputs": [
    {
     "name": "stdout",
     "output_type": "stream",
     "text": [
      "Porcentajes anuales de ventas en Japón respecto al total:\n",
      "(...)\n",
      "1983: 8.1\n",
      "1984: 14.269999999999998\n",
      "1985: 14.56\n",
      "1986: 19.81\n",
      "1987: 11.63\n",
      "1988: 15.759999999999998\n",
      "1989: 18.360000000000003\n",
      "1990: 14.880000000000003\n",
      "1991: 14.780000000000001\n",
      "(...)\n"
     ]
    }
   ],
   "source": [
    "# Test de la función dicc_porcentaje_ventasJP_por_año\n",
    "# La salida esperada es:\n",
    "'''\n",
    "Porcentajes anuales de ventas en Japón respecto al total:\n",
    "(...)\n",
    "1983: 48.24300178677784\n",
    "1984: 28.335980937251776\n",
    "1985: 26.992955135335556\n",
    "1986: 53.439438899379546\n",
    "1987: 53.49586016559339\n",
    "1988: 33.37568826768318\n",
    "1989: 24.996596324029955\n",
    "1990: 30.12755618546265\n",
    "1991: 45.857896369841754\n",
    "(...)\n",
    "'''\n",
    "\n",
    "print('Porcentajes anuales de ventas en Japón respecto al total:\\n(...)')\n",
    "for año, porcentaje in sorted(dicc_porcentaje_ventasJP_por_año (juegos).items())[3:12]:\n",
    "    print(f\"{año}: {porcentaje}\")\n",
    "print(\"(...)\")"
   ]
  },
  {
   "cell_type": "markdown",
   "metadata": {},
   "source": [
    "## Ejercicio 12\n",
    "Escribe la función **incremento_ventas**(lista_juegos), que devuelve una lista ordenada cronológicamente con los incrementos en porcentaje de las ventas globales de los videojuegos que se publicaron un año con respecto al anterior."
   ]
  },
  {
   "cell_type": "code",
   "execution_count": null,
   "metadata": {},
   "outputs": [],
   "source": [
    "def incremento_ventas(lista_juegos):\n",
    "    ''' \n",
    "    Devuelve una lista ordenada cronológicamente con los incrementos \n",
    "    en porcentaje de las ventas globales de los videojuegos que se publicaron \n",
    "    un año con respecto al anterior.\n",
    "    \n",
    "    ENTRADA: \n",
    "        - lista_juegos: lista de tuplas -> [Juego(...)]    \n",
    "    SALIDA: \n",
    "        - lista de incrementos porcentuales en ventas -> [float]\n",
    "    '''      \n",
    "    pass"
   ]
  },
  {
   "cell_type": "code",
   "execution_count": null,
   "metadata": {},
   "outputs": [],
   "source": [
    "# Test de la función incremento_ventas\n",
    "# La salida esperada es:\n",
    "# Incremento anual de las ventas globales: [214.32337434094913, -19.317864131954188, -41.822591822591804,\n",
    "# 199.94044073853487, 7.108816521048431, -31.275491286614763, -41.354194766657685, 117.20331186752534,\n",
    "# 55.54849639983059, -32.756977535738606, -34.743875278396416, 136.30158237666762, -39.62710084033613,\n",
    "# 72.1835580687256, 11.292156119742176, 126.02428782204079, 0.9189053477279355, 27.609712409194678,\n",
    "# -2.027527586072233, -19.783499820909757, 64.45227227624468, 19.323015657525367, -9.524170711973998,\n",
    "# 15.693726421685056, 10.748532644138818, 13.637652395802562, 17.058191309688937, 11.309679958027687,\n",
    "# -1.708646339667191, -10.041960137869085, -14.074863815822077, -29.528887165567976, 1.2710115821618895,\n",
    "# -8.443128412702798, -21.538142005163003, -73.18862501890763, -99.92947813822285, 480.0]\n",
    "\n",
    "print('Incremento anual de las ventas globales:', incremento_ventas(juegos))"
   ]
  },
  {
   "cell_type": "markdown",
   "metadata": {},
   "source": [
    "## Ejercicio 13\n",
    "Escribe la función **juego_mas_ventas_globales_saga**(lista_juegos, saga), que obtiene una tupla formada por las ventas globales, el nombre del juego y el año, del juego de la saga dada como parámetro que más ha vendido. Se considera que un juego pertenece a una saga si en su nombre aparece la palabra dada como parámetro. Por ejemplo, serán juegos de la saga Pokemon aquellos que tengan Pokemon en su nombre. (1,5 Puntos)"
   ]
  },
  {
   "cell_type": "code",
   "execution_count": null,
   "metadata": {},
   "outputs": [],
   "source": [
    "def juego_mas_ventas_globales_saga(lista_juegos, saga):\n",
    "    ''' \n",
    "    Obtiene una tupla formada por las ventas globales, el nombre del juego y el año, \n",
    "    del juego de la saga dada como parámetro que más ha vendido. Se considera que un \n",
    "    juego pertenece a una saga si en su nombre aparece la palabra dada como parámetro.     \n",
    "    \n",
    "    ENTRADA: \n",
    "        - lista_juegos: lista de tuplas -> [Juego(...)]    \n",
    "        - saga: palabra a buscar en el título -> str\n",
    "    SALIDA: \n",
    "        - ventas globales, nombre del juego y año  -> [(float, str, int)]\n",
    "    '''      \n",
    "    pass"
   ]
  },
  {
   "cell_type": "code",
   "execution_count": null,
   "metadata": {},
   "outputs": [],
   "source": [
    "# Test de la función juego_mas_ventas_globales_saga\n",
    "# La salida esperada para la saga 'Pokemon' es:\n",
    "# El juego con más ventas de la saga Pokemon con 31.37 millones de copias es Pokemon Red/Pokemon Blue del año 1996\n",
    "\n",
    "palabra = 'Pokemon'\n",
    "ventas, juego, anyo = juego_mas_ventas_globales_saga(juegos, palabra)\n",
    "print(f'El juego con más ventas de la saga {palabra} con {ventas} millones de copias es {juego} del año {anyo}')"
   ]
  },
  {
   "cell_type": "markdown",
   "metadata": {},
   "source": [
    "## Ejercicio 14\n",
    "Escribe la función **dicc_ventas_por_zona**(lista_juegos, anyo_inicial=None, anyo_final=None), que crea un diccionario con el acumulado de ventas por zona. Las claves del diccionario serán: América, Europa, Japón y Otros, y los valores el total de ventas para esa zona de los años incluidos en el rango (anyo_inicial, anyo_final). Si anyo_inicial es *None*, se devuelven las ventas acumuladas hasta anyo_final. Si anyo_final es *None*, se devuelven las ventas acumuladas desde anyo_inicial. Si ambos son *None*, se acumulan las ventas de todos los años registrados. (1,5 Puntos)"
   ]
  },
  {
   "cell_type": "code",
   "execution_count": null,
   "metadata": {},
   "outputs": [],
   "source": [
    "def dicc_ventas_por_zona(lista_juegos, anyo_inicial=None, anyo_final=None):\n",
    "    ''' \n",
    "    Devuelve un diccionario con el acumulado de ventas por zona. Las claves del diccionario serán: \n",
    "    América, Europa, Japón y Otros, y los valores el total de ventas para esa zona de los años \n",
    "    incluidos en el rango (anyo_inicial, anyo_final). \n",
    "    \n",
    "    Si anyo_inicial es None, se devuelven las ventas acumuladas hasta anyo_final. \n",
    "    Si anyo_final es None, se devuelven las ventas acumuladas desde anyo_inicial. \n",
    "    Si ambos son None, se acumulan las ventas de todos los años registrados.\n",
    "    \n",
    "    ENTRADA: \n",
    "        - lista_juegos: lista de tuplas -> [Juego(...)]    \n",
    "        - anyo_inicial -> int\n",
    "        - anyo_final -> int\n",
    "    SALIDA: \n",
    "        - diccionario con ventas totales en cada mercado -> {str:float}}\n",
    "    '''      \n",
    "    pass"
   ]
  },
  {
   "cell_type": "code",
   "execution_count": null,
   "metadata": {},
   "outputs": [],
   "source": [
    "# Test de la función dicc_ventas_por_zona\n",
    "# La salida esperada es:\n",
    "'''\n",
    "El total de ventas por zona para los años (1985,1999) es: \n",
    "{'Europa': 306.88999999999623, 'America': 699.8199999999937, 'Japon': 452.4499999999998, 'Otros': 52.959999999999916}\n",
    "El total de ventas por zona para los años (None,1990) es: \n",
    "{'Europa': 38.83000000000008, 'America': 261.12, 'Japon': 117.36999999999999, 'Otros': 8.529999999999982}\n",
    "El total de ventas por zona para los años (1999,None) es: \n",
    "{'Europa': 2155.2900000003197, 'America': 3641.940000000276, 'Japon': 861.7899999999548, 'Otros': 744.4099999998928}\n",
    "El total de ventas por zona para los años (None,None) es: \n",
    "{'Europa': 2406.690000000536, 'America': 4327.650000000327, 'Japon': 1284.2699999999031, 'Otros': 788.9099999998845}\n",
    "'''\n",
    "\n",
    "anyo_inicial, anyo_final = 1985, 1999\n",
    "dicc = dicc_ventas_por_zona(juegos, anyo_inicial, anyo_final) \n",
    "print('El total de ventas por zona para los años ({},{}) es: '\n",
    "      .format(anyo_inicial, anyo_final))\n",
    "print (dicc)\n",
    "\n",
    "anyo_inicial, anyo_final = None, 1990\n",
    "dicc = dicc_ventas_por_zona(juegos, anyo_inicial, anyo_final) \n",
    "print('El total de ventas por zona para los años ({},{}) es: '\n",
    "      .format(anyo_inicial, anyo_final))\n",
    "print (dicc)\n",
    "\n",
    "anyo_inicial, anyo_final = 1999, None\n",
    "dicc = dicc_ventas_por_zona(juegos, anyo_inicial, anyo_final) \n",
    "print('El total de ventas por zona para los años ({},{}) es: '\n",
    "      .format(anyo_inicial, anyo_final))\n",
    "print (dicc)\n",
    "\n",
    "anyo_inicial, anyo_final = None, None\n",
    "dicc = dicc_ventas_por_zona(juegos, anyo_inicial, anyo_final) \n",
    "print('El total de ventas por zona para los años ({},{}) es: '\n",
    "      .format(anyo_inicial, anyo_final))\n",
    "print (dicc)"
   ]
  },
  {
   "cell_type": "markdown",
   "metadata": {},
   "source": [
    "## Ejercicio 15\n",
    "Escribe la función **dicc_top_n_juegos_por_genero**(lista_juegos, n=1), que crea un diccionario cuyas claves son los géneros y cuyos valores son una lista con los n mejores juegos de cada género en formato tupla (posición, nombre). Se considera que un juego es mejor que otro si su posición en el ranking es menor. Si no se proporciona ningún número, entonces la lista solo tendrá el juego mejor. (1,5 Puntos)"
   ]
  },
  {
   "cell_type": "code",
   "execution_count": null,
   "metadata": {},
   "outputs": [],
   "source": [
    "def dicc_top_n_juegos_por_genero(lista_juegos, n=1):\n",
    "    ''' \n",
    "    Devuelve un diccionario cuyas claves son los géneros y cuyos valores son una lista \n",
    "    con los n mejores juegos de cada género en formato tupla (posición, nombre). \n",
    "    Se considera que un juego es mejor que otro si su posición en el ranking es menor. \n",
    "    Si no se proporciona ningún número, entonces la lista solo tendrá el juego mejor.\n",
    "    \n",
    "    ENTRADA: \n",
    "        - lista_juegos: lista de tuplas -> [Juego(...)]    \n",
    "        - n: número de juegos de cada lista del diccionario -> int\n",
    "    SALIDA: \n",
    "        - diccionario de (posicion, titulo) por género -> {str:[(int, str)]}\n",
    "    '''      \n",
    "    pass"
   ]
  },
  {
   "cell_type": "code",
   "execution_count": null,
   "metadata": {},
   "outputs": [],
   "source": [
    "# Test de la función dicc_top_n_juegos_por_genero\n",
    "# La salida esperada para n=3 es:\n",
    "# Los 3 mejores juegos de cada género son: \n",
    "# Sports : [(1, 'Wii Sports'), (4, 'Wii Sports Resort'), (14, 'Wii Fit')]\n",
    "# Platform : [(2, 'Super Mario Bros.'), (7, 'New Super Mario Bros.'), (9, 'New Super Mario Bros. Wii')]\n",
    "# Racing : [(3, 'Mario Kart Wii'), (12, 'Mario Kart DS'), (29, 'Gran Turismo 3: A-Spec')]\n",
    "# Role-Playing : [(5, 'Pokemon Red/Pokemon Blue'), (13, 'Pokemon Gold/Pokemon Silver'), (21, 'Pokemon Diamond/Pokemon Pearl')]\n",
    "# Puzzle : [(6, 'Tetris'), (28, 'Brain Age 2: More Training in Minutes a Day'), (90, 'Pac-Man')]\n",
    "# Misc : [(8, 'Wii Play'), (16, 'Kinect Adventures!'), (20, 'Brain Age: Train Your Brain in Minutes a Day')]\n",
    "# Shooter : [(10, 'Duck Hunt'), (30, 'Call of Duty: Modern Warfare 3'), (32, 'Call of Duty: Black Ops')]\n",
    "# Simulation : [(11, 'Nintendogs'), (42, 'Animal Crossing: Wild World'), (74, 'Animal Crossing: New Leaf')]\n",
    "# Action : [(17, 'Grand Theft Auto V'), (18, 'Grand Theft Auto: San Andreas'), (24, 'Grand Theft Auto V')]\n",
    "# Fighting : [(40, 'Super Smash Bros. Brawl'), (98, 'Super Smash Bros. for Wii U and 3DS'), (106, 'Tekken 3')]\n",
    "# Adventure : [(51, 'Super Mario Land 2: 6 Golden Coins'), (159, \"Assassin's Creed\"), (219, \"Assassin's Creed\")]\n",
    "# Strategy : [(166, 'Pokemon Stadium'), (205, 'Warzone 2100'), (218, 'StarCraft II: Wings of Liberty')]\n",
    "\n",
    "n = 3\n",
    "print('Los {} mejores juegos de cada género son: '.format(n))\n",
    "top = dicc_top_n_juegos_por_genero(juegos, n)\n",
    "for k in  top.keys():\n",
    "    print(k, \":\", top[k])"
   ]
  },
  {
   "cell_type": "markdown",
   "metadata": {},
   "source": [
    "## Ejercicio 16\n",
    "Escribe la función **dibuja_ventas_por_zona**(lista_juegos, anyo_inicial=None, anyo_final=None), que dibuja un gráfico que muestra el total de ventas por zona (América, Europa, Japón y Otros) en un determinado rango (anyo_inicial, anyo_final). Si anyo_inicial es *None*, se devuelven las ventas acumuladas hasta anyo_final. Si anyo_final es *None*, se devuelven las ventas acumuladas desde anyo_inicial. Si ambos son *None*, se acumulan las ventas de todos los años registrados. (1,5 Puntos)."
   ]
  },
  {
   "cell_type": "code",
   "execution_count": null,
   "metadata": {},
   "outputs": [],
   "source": [
    "def dibuja_ventas_por_zona(lista_juegos, anyo_inicial=None, anyo_final=None):\n",
    "    ''' \n",
    "    Dibuja un gráfico que muestra el total de ventas por zona (América, Europa, Japón y Otros)\n",
    "    en un determinado rango (anyo_inicial, anyo_final). \n",
    "    Si anyo_inicial es *None*, se devuelven las ventas acumuladas hasta anyo_final. \n",
    "    Si anyo_final es *None*, se devuelven las ventas acumuladas desde anyo_inicial. \n",
    "    Si ambos son *None*, se acumulan las ventas de todos los años registrados. \n",
    "    \n",
    "    ENTRADA: \n",
    "        - lista_juegos: lista de tuplas -> [Juego(...)]    \n",
    "        - anyo_inicial -> int\n",
    "        - anyo_final -> int\n",
    "    '''          \n",
    "    # TODO: titulo, lista_zonas y lista_ventas\n",
    "    plt.title(titulo)\n",
    "    plt.bar(lista_zonas, lista_ventas)\n",
    "    plt.show()"
   ]
  },
  {
   "cell_type": "code",
   "execution_count": null,
   "metadata": {},
   "outputs": [],
   "source": [
    "# Test de la función dibuja_ventas_por_zona\n",
    "anyo_inicial, anyo_final = 1985, 1999\n",
    "dibuja_ventas_por_zona(juegos, anyo_inicial, anyo_final)"
   ]
  },
  {
   "cell_type": "markdown",
   "metadata": {},
   "source": [
    "## Ejercicio 17\n",
    "Escribe la función **distribuidora_mas_juegos_genero**(lista_juegos, genero), que obtiene el nombre de la distribuidora con más juegos del género dado como parámetro. (2 Puntos)"
   ]
  },
  {
   "cell_type": "code",
   "execution_count": null,
   "metadata": {},
   "outputs": [],
   "source": [
    "def distribuidora_mas_juegos_genero(lista_juegos, genero):\n",
    "    ''' \n",
    "    Obtiene el nombre de la distribuidora con más juegos del género dado como parámetro.\n",
    "    \n",
    "    ENTRADA: \n",
    "        - lista_juegos: lista de tuplas -> [Juego(...)]    \n",
    "        - genero -> str\n",
    "    SALIDA: \n",
    "        - distribuidora -> str\n",
    "    '''      \n",
    "    pass"
   ]
  },
  {
   "cell_type": "code",
   "execution_count": null,
   "metadata": {},
   "outputs": [],
   "source": [
    "# Test de la función distribuidora_mas_juegos_genero\n",
    "# La salida esperada es:\n",
    "# La distribuidora con más juegos del género Role-Playing es Namco Bandai Games\n",
    "\n",
    "genero = 'Role-Playing'\n",
    "distribuidora = distribuidora_mas_juegos_genero(juegos, genero)\n",
    "print ('La distribuidora con más juegos del género {} es {}'.format(genero, distribuidora))"
   ]
  },
  {
   "cell_type": "markdown",
   "metadata": {},
   "source": [
    "## Ejercicio 18\n",
    "Escribe la función **juegos_distinto_ranking_EU_NA**(lista_juegos, n), que obtiene una lista de los videojuegos que están en el ranking de los n más vendidos en Norteamérica pero no entre los n más vendidos en Europa, o al revés, que están entre los n más vendidos en Europa y no en Norteamérica. La lista estará ordenada por el campo rank de los juegos."
   ]
  },
  {
   "cell_type": "code",
   "execution_count": 74,
   "metadata": {},
   "outputs": [],
   "source": [
    "def mas_vendidos(lista_juegos,n, f_criterio_ordenacion):\n",
    "    return sorted(lista_juegos, key=f_criterio_ordenacion, reverse=True)[:n]\n",
    "\n",
    "def juegos_distinto_ranking_EU_NA(lista_juegos, n):\n",
    "    '''\n",
    "    Obtiene una lista de los videojuegos que están en el ranking de los n más vendidos\n",
    "     en Norteamérica pero no entre los n más vendidos en Europa, o al revés, que están \n",
    "     entre los n más vendidos en Europa y no en Norteamérica. La lista estará ordenada\n",
    "    por el campo rank.\n",
    "    \n",
    "    ENTRADA: \n",
    "        - lista_juegos: lista de tuplas -> [Juego(...)]    \n",
    "        - n: indica cuántos de los juegos más vendidos de cada ranking se tendrán en cuenta -> int\n",
    "    SALIDA: \n",
    "        - juegos distintos en los rankings -> [Juego]\n",
    "    '''          \n",
    "    mas_vendidos_EU = set(mas_vendidos(lista_juegos,n, lambda k:k.EU_sales))\n",
    "    mas_vendidos_NA = set(mas_vendidos(lista_juegos,n, lambda k:k.NA_sales))\n",
    "    res = mas_vendidos_EU.symmetric_difference(mas_vendidos_NA)\n",
    "    return sorted(res)"
   ]
  },
  {
   "cell_type": "code",
   "execution_count": 75,
   "metadata": {},
   "outputs": [
    {
     "name": "stdout",
     "output_type": "stream",
     "text": [
      "Los juegos que están entre los 3 más vendidos solo en Europa o Norteamérica son:\n",
      "\t Juego(rank=2, name='Super Mario Bros.', platform='NES', year=1985, genre='Platform', publisher='Nintendo', NA_sales=29.08, EU_sales=3.58, JP_sales=6.81, other_sales=0.77, global_sales=40.24)\n",
      "\t Juego(rank=3, name='Mario Kart Wii', platform='Wii', year=2008, genre='Racing', publisher='Nintendo', NA_sales=15.85, EU_sales=12.88, JP_sales=3.79, other_sales=3.31, global_sales=35.82)\n",
      "\t Juego(rank=4, name='Wii Sports Resort', platform='Wii', year=2009, genre='Sports', publisher='Nintendo', NA_sales=15.75, EU_sales=11.01, JP_sales=3.28, other_sales=2.96, global_sales=33.0)\n",
      "\t Juego(rank=10, name='Duck Hunt', platform='NES', year=1984, genre='Shooter', publisher='Nintendo', NA_sales=26.93, EU_sales=0.63, JP_sales=0.28, other_sales=0.47, global_sales=28.31)\n"
     ]
    }
   ],
   "source": [
    "# Test de la función juegos_distinto_ranking_EU_NA\n",
    "# La salida esperada es:\n",
    "'''\n",
    "Los juegos que están entre los 3 más vendidos solo en Europa o Norteamérica son:\n",
    "\t Juego(rank=2, name='Super Mario Bros.', platform='NES', year=1985, genre='Platform', publisher='Nintendo', NA_sales=29.08, EU_sales=3.58, JP_sales=6.81, other_sales=0.77, global_sales=40.24)\n",
    "\t Juego(rank=3, name='Mario Kart Wii', platform='Wii', year=2008, genre='Racing', publisher='Nintendo', NA_sales=15.85, EU_sales=12.88, JP_sales=3.79, other_sales=3.31, global_sales=35.82)\n",
    "\t Juego(rank=4, name='Wii Sports Resort', platform='Wii', year=2009, genre='Sports', publisher='Nintendo', NA_sales=15.75, EU_sales=11.01, JP_sales=3.28, other_sales=2.96, global_sales=33.0)\n",
    "\t Juego(rank=10, name='Duck Hunt', platform='NES', year=1984, genre='Shooter', publisher='Nintendo', NA_sales=26.93, EU_sales=0.63, JP_sales=0.28, other_sales=0.47, global_sales=28.31)\n",
    "'''\n",
    "print('Los juegos que están entre los 3 más vendidos solo en Europa o Norteamérica son:')\n",
    "for juego in juegos_distinto_ranking_EU_NA(juegos, 3):\n",
    "      print(\"\\t\", juego)"
   ]
  },
  {
   "cell_type": "markdown",
   "metadata": {},
   "source": [
    "## Ejercicio 19\n",
    "Escribe la función **juegos_mismo_ranking_EU_NA_JP**(lista_juegos, n), que obtiene una lista de los videojuegos que están simultáneamente entre los n primeros puestos de ventas en Europa, Norteamérica y Japón. La lista estará ordenada por el campo rank de los juegos."
   ]
  },
  {
   "cell_type": "code",
   "execution_count": null,
   "metadata": {},
   "outputs": [],
   "source": [
    "def juegos_mismo_ranking_EU_NA_JP (lista_juegos, n):\n",
    "    '''\n",
    "    Obtiene una lista de los videojuegos que están simultáneamente entre los n primeros \n",
    "    puestos de ventas en Europa, Norteamérica y Japón. La lista estará ordenada\n",
    "    por el campo rank.\n",
    "    \n",
    "    ENTRADA: \n",
    "        - lista_juegos: lista de tuplas -> [Juego(...)]    \n",
    "        - n: indica cuántos de los juegos más vendidos de cada ranking se tendrán en cuenta -> int\n",
    "    SALIDA: \n",
    "        - juegos comunes en los rankings -> [Juego]\n",
    "    '''         \n",
    "    pass"
   ]
  },
  {
   "cell_type": "code",
   "execution_count": null,
   "metadata": {},
   "outputs": [],
   "source": [
    "# Test de la función juegos_mismo_ranking_EU_NA_JP\n",
    "# La salida esperada para n = 12 es:\n",
    "'''\n",
    "Los juegos que están entre los 12 más vendidos a la vez en Europa, Norteamérica y Japón son:\n",
    "\t Juego(rank=5, name='Pokemon Red/Pokemon Blue', platform='GB', year=1996, genre='Role-Playing', publisher='Nintendo', NA_sales=11.27, EU_sales=8.89, JP_sales=10.22, other_sales=1.0, global_sales=31.37)\n",
    "\t Juego(rank=7, name='New Super Mario Bros.', platform='DS', year=2006, genre='Platform', publisher='Nintendo', NA_sales=11.38, EU_sales=9.23, JP_sales=6.5, other_sales=2.9, global_sales=30.01)\n",
    "\t Juego(rank=9, name='New Super Mario Bros. Wii', platform='Wii', year=2009, genre='Platform', publisher='Nintendo', NA_sales=14.59, EU_sales=7.06, JP_sales=4.7, other_sales=2.26, global_sales=28.62)\n",
    "\t Juego(rank=12, name='Mario Kart DS', platform='DS', year=2005, genre='Racing', publisher='Nintendo', NA_sales=9.81, EU_sales=7.57, JP_sales=4.13, other_sales=1.92, global_sales=23.42)\n",
    "'''\n",
    "print('Los juegos que están entre los 20 más vendidos a la vez en Europa, Norteamérica y Japón son:')\n",
    "for juego in juegos_mismo_ranking_EU_NA_JP(juegos, 20):\n",
    "      print(\"\\t\", juego)"
   ]
  },
  {
   "cell_type": "markdown",
   "metadata": {},
   "source": [
    "## Ejercicio 20 \n",
    "Escribe la función **juegos_mismas_posiciones_NA_EU**(lista_juegos), que devuelve una lista de tuplas de tipo Juego con los videojuegos que ocupan la misma posición en las n primeras posiciones de las listas de más vendidos de Norteamérica y Europa. Por ejemplo, para n igual a 3, y si el ranking de ventas en Norteamérica lo ocupan los videojuegos (X, Y, Z) y el ranking de ventas en Europa lo ocupan los videojuegos (X, V, Z), el resultado sería [X,Z]."
   ]
  },
  {
   "cell_type": "code",
   "execution_count": null,
   "metadata": {},
   "outputs": [],
   "source": [
    "def juegos_mismas_posiciones_NA_EU(lista_juegos, n):\n",
    "    '''\n",
    "    Devuelve una lista de tuplas de tipo Juego con los videojuegos que ocupan la misma \n",
    "    posición en las n primeras posiciones de las listas de más vendidos de Norteamérica y Europa. \n",
    "    \n",
    "    ENTRADA: \n",
    "        - lista_juegos: lista de tuplas -> [Juego(...)]    \n",
    "        - n: indica cuántos de los juegos más vendidos de cada ranking se tendrán en cuenta -> int\n",
    "    SALIDA: \n",
    "        - juegos comunes en los rankings -> [Juego]\n",
    "    '''         \n",
    "    pass"
   ]
  },
  {
   "cell_type": "code",
   "execution_count": null,
   "metadata": {},
   "outputs": [],
   "source": [
    "# Test de la función primer_juego_distinto\n",
    "# La salida esperada es:\n",
    "'''\n",
    "Los videojuegos que ocupan la misma posición en la lista de los 10000 juegos más vendidos en Europa y Norteamérica son:\n",
    "\t Juego(rank=1, name='Wii Sports', platform='Wii', year=2006, genre='Sports', publisher='Nintendo', NA_sales=41.49, EU_sales=29.02, JP_sales=3.77, other_sales=8.46, global_sales=82.74)\n",
    "\t Juego(rank=39, name='Grand Theft Auto III', platform='PS2', year=2001, genre='Action', publisher='Take-Two Interactive', NA_sales=6.99, EU_sales=4.51, JP_sales=0.3, other_sales=1.3, global_sales=13.1)\n",
    "\t Juego(rank=622, name='Pure', platform='X360', year=2008, genre='Racing', publisher='Disney Interactive Studios', NA_sales=1.38, EU_sales=0.85, JP_sales=0.0, other_sales=0.25, global_sales=2.48)\n",
    "\t Juego(rank=13398, name='Hakuouki: Bakumatsu Musou Roku', platform='PSP', year=2012, genre='Action', publisher='Idea Factory', NA_sales=0.0, EU_sales=0.0, JP_sales=0.05, other_sales=0.0, global_sales=0.05)\n",
    "\t Juego(rank=13447, name='Hakuouki SSL: Sweet School Life', platform='PSV', year=2014, genre='Adventure', publisher='Idea Factory', NA_sales=0.0, EU_sales=0.0, JP_sales=0.05, other_sales=0.0, global_sales=0.05)\n",
    "\t Juego(rank=13449, name='Kimi ni Todoke: Tsutaeru Kimochi', platform='DS', year=2011, genre='Adventure', publisher='Banpresto', NA_sales=0.0, EU_sales=0.0, JP_sales=0.05, other_sales=0.0, global_sales=0.05)\n",
    "\t Juego(rank=13450, name='Nora to Koku no Koubou: Kiri no Mori no Majo', platform='DS', year=2011, genre='Role-Playing', publisher='Atlus', NA_sales=0.0, EU_sales=0.0, JP_sales=0.05, other_sales=0.0, global_sales=0.05)\n",
    "'''\n",
    "\n",
    "print('Los videojuegos que ocupan la misma posición en la lista de los 10000 juegos más vendidos en Europa y Norteamérica son:')\n",
    "for juego in juegos_mismas_posiciones_NA_EU(juegos,15000):\n",
    "      print(\"\\t\", juego)"
   ]
  }
 ],
 "metadata": {
  "anaconda-cloud": {},
  "kernelspec": {
   "display_name": "Python 3.10.7 64-bit",
   "language": "python",
   "name": "python3"
  },
  "language_info": {
   "codemirror_mode": {
    "name": "ipython",
    "version": 3
   },
   "file_extension": ".py",
   "mimetype": "text/x-python",
   "name": "python",
   "nbconvert_exporter": "python",
   "pygments_lexer": "ipython3",
   "version": "3.10.7"
  },
  "vscode": {
   "interpreter": {
    "hash": "0a855e0798565613629ea6aeaedacd216294da74377df975d61f1b4e8b3b3cf0"
   }
  }
 },
 "nbformat": 4,
 "nbformat_minor": 2
}
